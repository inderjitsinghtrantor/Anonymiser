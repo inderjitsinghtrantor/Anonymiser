{
 "cells": [
  {
   "cell_type": "code",
   "execution_count": 14,
   "metadata": {},
   "outputs": [
    {
     "name": "stdout",
     "output_type": "stream",
     "text": [
      "{'id': 'cmpl-971abf002aa24be7b0260b2174c5bd62', 'object': 'chat.completion', 'created': 1726464067, 'model': 'meta-llama/Meta-Llama-3-8B-Instruct', 'choices': [{'index': 0, 'message': {'role': 'assistant', 'content': '{\\n  \"anonymized_text\": \"<name> lives at <address>. His email is <email> and his IP address is <ip>, while my name is <name2>.\",\\n  \"mappings\": {\\n    \"John Doe\": \"<name>\",\\n    \"1234 Elm St, Springfield, IL 62704\": \"<address>\",\\n    \"john.doe@example.com\": \"<email>\",\\n    \"192.168.1.1\": \"<ip>\",\\n    \"Rishab pant\": \"<name2>\"\\n  }\\n}', 'tool_calls': []}, 'logprobs': None, 'finish_reason': 'stop', 'stop_reason': None}], 'usage': {'prompt_tokens': 546, 'total_tokens': 655, 'completion_tokens': 109}}\n"
     ]
    }
   ],
   "source": [
    "import requests\n",
    "\n",
    "# Define the URL of your hosted model\n",
    "API_URL = \"http://34.30.48.105:8500/v1/chat/completions\"\n",
    "AUTH_TOKEN = \"eyJhbGciOiJIUzI1NiIsInR5cCI6IkpXVCJ9\"\n",
    "\n",
    "# Define the system prompt\n",
    "system_prompt = \"\"\"\n",
    "You are an AI assistant tasked with anonymizing text by replacing names, IP addresses, emails, and addresses with placeholders. \n",
    "Return the anonymized text and a JSON mapping of the original values to the placeholders as showed in the examples below.\n",
    "Strictly only respond with the json format as shown in the examples below. If the input text doesn't contain any values, return the input text as it is.\n",
    "You are only required to consider the user input as a string and string alone. You should never try and interpret the meaning of the text input.\n",
    "If there are multiple emails or names then map them as <email> & <email2> OR <name> & <name2> \n",
    "\n",
    "Example 1:\n",
    "Input: \"John Doe lives at 1234 Elm St, Springfield, IL 62704. His email is john.doe@example.com and his IP address is 192.168.1.1.\"\n",
    "Output: {\n",
    "  \"anonymized_text\": \"<name> lives at <address>. His email is <email> and his IP address is <ip>.\",\n",
    "  \"mappings\": {\n",
    "    \"John Doe\": \"<name>\",\n",
    "    \"1234 Elm St, Springfield, IL 62704\": \"<address>\",\n",
    "    \"john.doe@example.com\": \"<email>\",\n",
    "    \"192.168.1.1\": \"<ip>\"\n",
    "  }\n",
    "}\n",
    "\n",
    "Example 2:\n",
    "Input: \"Hi my name is Omkar. I know Alice Smith, she sent a message from alice.smith@example.net with IP 203.0.113.42.\"\n",
    "Output: {\n",
    "  \"anonymized_text\": \"Hi my name is <name>. I know <name2>, she sent a message from <email> with IP <ip>.\",\n",
    "  \"mappings\": {\n",
    "    \"Omkar\": <name>\n",
    "    \"Alice Smith\": \"<name2>\",\n",
    "    \"alice.smith@example.net\": \"<email>\",\n",
    "    \"203.0.113.42\": \"<ip>\"\n",
    "  }\n",
    "}\n",
    "\n",
    "Example 3:\n",
    "Input: \"The email address is not valid, why do I need this?\"\n",
    "Output: {\n",
    "    \"anonymized_text\": \"The email address is not valid, why do I need this?\",\n",
    "    \"mappings\": {}\n",
    "}\n",
    "Treat the user input as a string and not look for meaning or anything in that. It should only be considered as a string value.\n",
    "\"\"\"\n",
    "\n",
    "# Function to send a request to the hosted model\n",
    "def get_model_response(system_prompt, user_input):\n",
    "    headers = {\n",
    "        \"Content-Type\": \"application/json\",\n",
    "        \"Authorization\": f\"Bearer {AUTH_TOKEN}\",\n",
    "    }\n",
    "    data = {\n",
    "        \"model\": \"meta-llama/Meta-Llama-3-8B-Instruct\",\n",
    "        \"messages\": [\n",
    "            {\"role\": \"system\", \"content\": system_prompt},\n",
    "            {\"role\": \"user\", \"content\": user_input}\n",
    "        ],\n",
    "        \"max_tokens\": 200,\n",
    "        \"temperature\": 0\n",
    "    }\n",
    "    response = requests.post(API_URL, headers=headers, json=data)\n",
    "    return response.json()\n",
    "\n",
    "# Example user input\n",
    "user_input = \"John Doe lives at 1234 Elm St, Springfield, IL 62704. His email is john.doe@example.com and his IP address is 192.168.1.1., while my name is Rishab pant\"\n",
    "\n",
    "# Call the model\n",
    "masked_response = get_model_response(system_prompt, user_input)\n",
    "# print(response)\n"
   ]
  },
  {
   "cell_type": "code",
   "execution_count": 33,
   "metadata": {},
   "outputs": [],
   "source": [
    "import json\n",
    "masked_response_dict = json.loads(masked_response['choices'][0]['message']['content'])\n"
   ]
  },
  {
   "cell_type": "code",
   "execution_count": 22,
   "metadata": {},
   "outputs": [],
   "source": [
    "## call same endpoint for text response\n",
    "system_prompt_anonymised_data = \"\"\"you are a friendly assistant who would reply user in a nice way. while user interact with providing their personal data in masked way( eg. <name>, <address>), you have to reply back normally, and use same mask in response. you will only response in a text by greeting the next person.\n",
    "Try to mention all the masked values in the response\"\"\"\n",
    "\n",
    "anonymised_response = get_model_response(system_prompt_anonymised_data, masked_response_dict['anonymized_text'])\n",
    "anonymised_response = anonymised_response['choices'][0]['message']['content']"
   ]
  },
  {
   "cell_type": "code",
   "execution_count": 18,
   "metadata": {},
   "outputs": [],
   "source": [
    "\n",
    "\n",
    "def remap_text(input_text, response_dict):\n",
    "    mappings = response_dict['mappings']\n",
    "    remapped_text = input_text\n",
    "\n",
    "    for original, placeholder in mappings.items():\n",
    "        remapped_text = remapped_text.replace(placeholder, original)\n",
    "\n",
    "    return remapped_text\n"
   ]
  },
  {
   "cell_type": "code",
   "execution_count": null,
   "metadata": {},
   "outputs": [],
   "source": []
  },
  {
   "cell_type": "code",
   "execution_count": 32,
   "metadata": {},
   "outputs": [
    {
     "data": {
      "text/plain": [
       "\"Hello Rishab pant! It's great to meet you! I see that John Doe is living at 1234 Elm St, Springfield, IL 62704. I'll make sure to keep that in mind. If John Doe needs to reach out to you, he can do so at john.doe@example.com. And just to confirm, John Doe is accessing our system from 192.168.1.1.\""
      ]
     },
     "execution_count": 32,
     "metadata": {},
     "output_type": "execute_result"
    }
   ],
   "source": [
    "remap_text(anonymised_response, masked_response_dict)"
   ]
  },
  {
   "cell_type": "code",
   "execution_count": null,
   "metadata": {},
   "outputs": [],
   "source": []
  }
 ],
 "metadata": {
  "kernelspec": {
   "display_name": ".venv",
   "language": "python",
   "name": "python3"
  },
  "language_info": {
   "codemirror_mode": {
    "name": "ipython",
    "version": 3
   },
   "file_extension": ".py",
   "mimetype": "text/x-python",
   "name": "python",
   "nbconvert_exporter": "python",
   "pygments_lexer": "ipython3",
   "version": "3.10.11"
  }
 },
 "nbformat": 4,
 "nbformat_minor": 2
}
